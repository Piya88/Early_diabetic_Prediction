{
 "cells": [
  {
   "cell_type": "markdown",
   "id": "1be3fa5b",
   "metadata": {},
   "source": [
    "# Early Prediction of Diabetes"
   ]
  },
  {
   "cell_type": "markdown",
   "id": "d1c88d9f",
   "metadata": {},
   "source": [
    "In this project we will use datset which contains early symptoms of newly diabetic patient or patient who is already a diabetic patient to predict diabeties for paient at early stage.\n"
   ]
  },
  {
   "cell_type": "code",
   "execution_count": 1,
   "id": "c3137f27",
   "metadata": {},
   "outputs": [],
   "source": [
    "import pandas as pd\n",
    "import numpy as np\n",
    "import matplotlib.pyplot as plt\n",
    "import matplotlib\n",
    "import seaborn as sns"
   ]
  },
  {
   "cell_type": "code",
   "execution_count": 2,
   "id": "4586aaee",
   "metadata": {},
   "outputs": [
    {
     "name": "stdout",
     "output_type": "stream",
     "text": [
      "     Age  Gender Polyuria Polydipsia sudden weight loss weakness Polyphagia  \\\n",
      "0     40    Male       No        Yes                 No      Yes         No   \n",
      "1     58    Male       No         No                 No      Yes         No   \n",
      "2     41    Male      Yes         No                 No      Yes        Yes   \n",
      "3     45    Male       No         No                Yes      Yes        Yes   \n",
      "4     60    Male      Yes        Yes                Yes      Yes        Yes   \n",
      "..   ...     ...      ...        ...                ...      ...        ...   \n",
      "515   39  Female      Yes        Yes                Yes       No        Yes   \n",
      "516   48  Female      Yes        Yes                Yes      Yes        Yes   \n",
      "517   58  Female      Yes        Yes                Yes      Yes        Yes   \n",
      "518   32  Female       No         No                 No      Yes         No   \n",
      "519   42    Male       No         No                 No       No         No   \n",
      "\n",
      "    Genital thrush visual blurring Itching Irritability delayed healing  \\\n",
      "0               No              No     Yes           No             Yes   \n",
      "1               No             Yes      No           No              No   \n",
      "2               No              No     Yes           No             Yes   \n",
      "3              Yes              No     Yes           No             Yes   \n",
      "4               No             Yes     Yes          Yes             Yes   \n",
      "..             ...             ...     ...          ...             ...   \n",
      "515             No              No     Yes           No             Yes   \n",
      "516             No              No     Yes          Yes             Yes   \n",
      "517             No             Yes      No           No              No   \n",
      "518             No             Yes     Yes           No             Yes   \n",
      "519             No              No      No           No              No   \n",
      "\n",
      "    partial paresis muscle stiffness Alopecia Obesity     class  \n",
      "0                No              Yes      Yes     Yes  Positive  \n",
      "1               Yes               No      Yes      No  Positive  \n",
      "2                No              Yes      Yes      No  Positive  \n",
      "3                No               No       No      No  Positive  \n",
      "4               Yes              Yes      Yes     Yes  Positive  \n",
      "..              ...              ...      ...     ...       ...  \n",
      "515             Yes               No       No      No  Positive  \n",
      "516             Yes               No       No      No  Positive  \n",
      "517             Yes              Yes       No     Yes  Positive  \n",
      "518              No               No      Yes      No  Negative  \n",
      "519              No               No       No      No  Negative  \n",
      "\n",
      "[520 rows x 17 columns]\n"
     ]
    }
   ],
   "source": [
    "db = pd.read_csv(\"D:/ML_Datasets/diabetes_data_upload.csv\")\n",
    "print(db)"
   ]
  },
  {
   "cell_type": "code",
   "execution_count": 3,
   "id": "f672e6e1",
   "metadata": {},
   "outputs": [
    {
     "name": "stdout",
     "output_type": "stream",
     "text": [
      "<class 'pandas.core.frame.DataFrame'>\n",
      "RangeIndex: 520 entries, 0 to 519\n",
      "Data columns (total 17 columns):\n",
      " #   Column              Non-Null Count  Dtype \n",
      "---  ------              --------------  ----- \n",
      " 0   Age                 520 non-null    int64 \n",
      " 1   Gender              520 non-null    object\n",
      " 2   Polyuria            520 non-null    object\n",
      " 3   Polydipsia          520 non-null    object\n",
      " 4   sudden weight loss  520 non-null    object\n",
      " 5   weakness            520 non-null    object\n",
      " 6   Polyphagia          520 non-null    object\n",
      " 7   Genital thrush      520 non-null    object\n",
      " 8   visual blurring     520 non-null    object\n",
      " 9   Itching             520 non-null    object\n",
      " 10  Irritability        520 non-null    object\n",
      " 11  delayed healing     520 non-null    object\n",
      " 12  partial paresis     520 non-null    object\n",
      " 13  muscle stiffness    520 non-null    object\n",
      " 14  Alopecia            520 non-null    object\n",
      " 15  Obesity             520 non-null    object\n",
      " 16  class               520 non-null    object\n",
      "dtypes: int64(1), object(16)\n",
      "memory usage: 69.2+ KB\n"
     ]
    }
   ],
   "source": [
    "db.info()"
   ]
  },
  {
   "cell_type": "markdown",
   "id": "de0b3fe2",
   "metadata": {},
   "source": [
    "## One-Hot Encoding\n",
    "\n",
    "In above dataset we can see we have categorical dataset which contains 'Yes' and 'No' values.\n",
    "As we know Machine learning model can't process categorical data sp let's use one-hot encoding technique to encode this categorical variable into integers."
   ]
  },
  {
   "cell_type": "code",
   "execution_count": 4,
   "id": "ed6e7c0a",
   "metadata": {},
   "outputs": [
    {
     "name": "stdout",
     "output_type": "stream",
     "text": [
      "     Age     class  Gender_Female  Gender_Male  Polyuria_No  Polyuria_Yes  \\\n",
      "0     40  Positive              0            1            1             0   \n",
      "1     58  Positive              0            1            1             0   \n",
      "2     41  Positive              0            1            0             1   \n",
      "3     45  Positive              0            1            1             0   \n",
      "4     60  Positive              0            1            0             1   \n",
      "..   ...       ...            ...          ...          ...           ...   \n",
      "515   39  Positive              1            0            0             1   \n",
      "516   48  Positive              1            0            0             1   \n",
      "517   58  Positive              1            0            0             1   \n",
      "518   32  Negative              1            0            1             0   \n",
      "519   42  Negative              0            1            1             0   \n",
      "\n",
      "     Polydipsia_No  Polydipsia_Yes  sudden weight loss_No  \\\n",
      "0                0               1                      1   \n",
      "1                1               0                      1   \n",
      "2                1               0                      1   \n",
      "3                1               0                      0   \n",
      "4                0               1                      0   \n",
      "..             ...             ...                    ...   \n",
      "515              0               1                      0   \n",
      "516              0               1                      0   \n",
      "517              0               1                      0   \n",
      "518              1               0                      1   \n",
      "519              1               0                      1   \n",
      "\n",
      "     sudden weight loss_Yes  ...  delayed healing_No  delayed healing_Yes  \\\n",
      "0                         0  ...                   0                    1   \n",
      "1                         0  ...                   1                    0   \n",
      "2                         0  ...                   0                    1   \n",
      "3                         1  ...                   0                    1   \n",
      "4                         1  ...                   0                    1   \n",
      "..                      ...  ...                 ...                  ...   \n",
      "515                       1  ...                   0                    1   \n",
      "516                       1  ...                   0                    1   \n",
      "517                       1  ...                   1                    0   \n",
      "518                       0  ...                   0                    1   \n",
      "519                       0  ...                   1                    0   \n",
      "\n",
      "     partial paresis_No  partial paresis_Yes  muscle stiffness_No  \\\n",
      "0                     1                    0                    0   \n",
      "1                     0                    1                    1   \n",
      "2                     1                    0                    0   \n",
      "3                     1                    0                    1   \n",
      "4                     0                    1                    0   \n",
      "..                  ...                  ...                  ...   \n",
      "515                   0                    1                    1   \n",
      "516                   0                    1                    1   \n",
      "517                   0                    1                    0   \n",
      "518                   1                    0                    1   \n",
      "519                   1                    0                    1   \n",
      "\n",
      "     muscle stiffness_Yes  Alopecia_No  Alopecia_Yes  Obesity_No  Obesity_Yes  \n",
      "0                       1            0             1           0            1  \n",
      "1                       0            0             1           1            0  \n",
      "2                       1            0             1           1            0  \n",
      "3                       0            1             0           1            0  \n",
      "4                       1            0             1           0            1  \n",
      "..                    ...          ...           ...         ...          ...  \n",
      "515                     0            1             0           1            0  \n",
      "516                     0            1             0           1            0  \n",
      "517                     1            1             0           0            1  \n",
      "518                     0            0             1           1            0  \n",
      "519                     0            1             0           1            0  \n",
      "\n",
      "[520 rows x 32 columns]\n"
     ]
    }
   ],
   "source": [
    "db_new = pd.get_dummies(db, columns=['Gender','Polyuria','Polydipsia','sudden weight loss', 'weakness', 'Polyphagia', 'Genital thrush','visual blurring', 'Itching','Irritability', 'delayed healing', 'partial paresis', 'muscle stiffness', 'Alopecia', 'Obesity'])\n",
    "print(db_new)"
   ]
  },
  {
   "cell_type": "markdown",
   "id": "f9806ae9",
   "metadata": {},
   "source": [
    "# Labelclass Encoder\n",
    "\n",
    "Now we have numeric values for all categorical features except our target feature \"Class\".\n",
    "now let's convert our target feature \"Class\" into integer value using Label Encoding.\n",
    "The difference between onhot encoding and LabelEncoder is that it won't create separate feature for each catgorical value."
   ]
  },
  {
   "cell_type": "code",
   "execution_count": 5,
   "id": "9d32bc17",
   "metadata": {},
   "outputs": [
    {
     "name": "stdout",
     "output_type": "stream",
     "text": [
      "['Negative' 'Positive']\n"
     ]
    },
    {
     "data": {
      "text/plain": [
       "['Negative', 'Positive']"
      ]
     },
     "execution_count": 5,
     "metadata": {},
     "output_type": "execute_result"
    }
   ],
   "source": [
    "from sklearn import preprocessing\n",
    "\n",
    "le = preprocessing.LabelEncoder()\n",
    "\n",
    "le.fit([\"Positive\", \"Negative\"])\n",
    "\n",
    "print(le.classes_)\n",
    "\n",
    "db_new['class'] = le.transform(db_new['class'])\n",
    "\n",
    "list(le.inverse_transform([0,1]))"
   ]
  },
  {
   "cell_type": "code",
   "execution_count": 6,
   "id": "a5ac5233",
   "metadata": {},
   "outputs": [
    {
     "name": "stdout",
     "output_type": "stream",
     "text": [
      "     Age  class  Gender_Female  Gender_Male  Polyuria_No  Polyuria_Yes  \\\n",
      "0     40      1              0            1            1             0   \n",
      "1     58      1              0            1            1             0   \n",
      "2     41      1              0            1            0             1   \n",
      "3     45      1              0            1            1             0   \n",
      "4     60      1              0            1            0             1   \n",
      "..   ...    ...            ...          ...          ...           ...   \n",
      "515   39      1              1            0            0             1   \n",
      "516   48      1              1            0            0             1   \n",
      "517   58      1              1            0            0             1   \n",
      "518   32      0              1            0            1             0   \n",
      "519   42      0              0            1            1             0   \n",
      "\n",
      "     Polydipsia_No  Polydipsia_Yes  sudden weight loss_No  \\\n",
      "0                0               1                      1   \n",
      "1                1               0                      1   \n",
      "2                1               0                      1   \n",
      "3                1               0                      0   \n",
      "4                0               1                      0   \n",
      "..             ...             ...                    ...   \n",
      "515              0               1                      0   \n",
      "516              0               1                      0   \n",
      "517              0               1                      0   \n",
      "518              1               0                      1   \n",
      "519              1               0                      1   \n",
      "\n",
      "     sudden weight loss_Yes  ...  delayed healing_No  delayed healing_Yes  \\\n",
      "0                         0  ...                   0                    1   \n",
      "1                         0  ...                   1                    0   \n",
      "2                         0  ...                   0                    1   \n",
      "3                         1  ...                   0                    1   \n",
      "4                         1  ...                   0                    1   \n",
      "..                      ...  ...                 ...                  ...   \n",
      "515                       1  ...                   0                    1   \n",
      "516                       1  ...                   0                    1   \n",
      "517                       1  ...                   1                    0   \n",
      "518                       0  ...                   0                    1   \n",
      "519                       0  ...                   1                    0   \n",
      "\n",
      "     partial paresis_No  partial paresis_Yes  muscle stiffness_No  \\\n",
      "0                     1                    0                    0   \n",
      "1                     0                    1                    1   \n",
      "2                     1                    0                    0   \n",
      "3                     1                    0                    1   \n",
      "4                     0                    1                    0   \n",
      "..                  ...                  ...                  ...   \n",
      "515                   0                    1                    1   \n",
      "516                   0                    1                    1   \n",
      "517                   0                    1                    0   \n",
      "518                   1                    0                    1   \n",
      "519                   1                    0                    1   \n",
      "\n",
      "     muscle stiffness_Yes  Alopecia_No  Alopecia_Yes  Obesity_No  Obesity_Yes  \n",
      "0                       1            0             1           0            1  \n",
      "1                       0            0             1           1            0  \n",
      "2                       1            0             1           1            0  \n",
      "3                       0            1             0           1            0  \n",
      "4                       1            0             1           0            1  \n",
      "..                    ...          ...           ...         ...          ...  \n",
      "515                     0            1             0           1            0  \n",
      "516                     0            1             0           1            0  \n",
      "517                     1            1             0           0            1  \n",
      "518                     0            0             1           1            0  \n",
      "519                     0            1             0           1            0  \n",
      "\n",
      "[520 rows x 32 columns]\n"
     ]
    }
   ],
   "source": [
    "print(db_new)"
   ]
  },
  {
   "cell_type": "markdown",
   "id": "2158fed0",
   "metadata": {},
   "source": [
    "In above dataset we can see all feature contains numeric values but \"Age\" feature is having range of values betwween 10 - 90 and other features contains only 0 and 1 value.\n",
    "\n",
    "Feature scaling is required so that all features can have similar range of values and will equally contribute in prediction.\n",
    "\n",
    "Here we don't need to use any feature scaling as we are going to use Random forest and XG-boost algorithm for prediction.\n",
    "which normaly don't require feature scaling as it splits data for homogeneity of node and doesn't have any effect on other features."
   ]
  },
  {
   "cell_type": "markdown",
   "id": "adc06339",
   "metadata": {},
   "source": [
    "#### Now that we have completed data pre-processing let's split data into train and test dataset"
   ]
  },
  {
   "cell_type": "code",
   "execution_count": 7,
   "id": "a5d72c9a",
   "metadata": {},
   "outputs": [],
   "source": [
    "col = pd.concat([db_new.iloc[:, 0], db_new.iloc[:, 2:-1]])\n",
    "x = db_new.drop(['class'], axis=1)\n",
    "y = db_new['class']\n",
    "\n",
    "from sklearn.model_selection import train_test_split\n",
    "\n",
    "x_train, x_test, y_train, y_test = train_test_split(x, y, test_size=0.2)"
   ]
  },
  {
   "cell_type": "code",
   "execution_count": 8,
   "id": "d81a422f",
   "metadata": {},
   "outputs": [
    {
     "name": "stdout",
     "output_type": "stream",
     "text": [
      "     Age  Gender_Female  Gender_Male  Polyuria_No  Polyuria_Yes  \\\n",
      "171   48              0            1            0             1   \n",
      "34    49              0            1            0             1   \n",
      "56    66              1            0            0             1   \n",
      "222   40              0            1            1             0   \n",
      "376   43              0            1            1             0   \n",
      "..   ...            ...          ...          ...           ...   \n",
      "389   53              0            1            1             0   \n",
      "410   30              0            1            1             0   \n",
      "474   27              0            1            1             0   \n",
      "498   68              1            0            0             1   \n",
      "322   64              0            1            1             0   \n",
      "\n",
      "     Polydipsia_No  Polydipsia_Yes  sudden weight loss_No  \\\n",
      "171              0               1                      1   \n",
      "34               0               1                      1   \n",
      "56               0               1                      0   \n",
      "222              1               0                      0   \n",
      "376              1               0                      1   \n",
      "..             ...             ...                    ...   \n",
      "389              1               0                      1   \n",
      "410              1               0                      1   \n",
      "474              1               0                      1   \n",
      "498              0               1                      1   \n",
      "322              1               0                      1   \n",
      "\n",
      "     sudden weight loss_Yes  weakness_No  ...  delayed healing_No  \\\n",
      "171                       0            0  ...                   1   \n",
      "34                        0            0  ...                   1   \n",
      "56                        1            0  ...                   0   \n",
      "222                       1            1  ...                   1   \n",
      "376                       0            0  ...                   0   \n",
      "..                      ...          ...  ...                 ...   \n",
      "389                       0            0  ...                   0   \n",
      "410                       0            1  ...                   1   \n",
      "474                       0            1  ...                   1   \n",
      "498                       0            0  ...                   0   \n",
      "322                       0            0  ...                   0   \n",
      "\n",
      "     delayed healing_Yes  partial paresis_No  partial paresis_Yes  \\\n",
      "171                    0                   1                    0   \n",
      "34                     0                   1                    0   \n",
      "56                     1                   0                    1   \n",
      "222                    0                   1                    0   \n",
      "376                    1                   1                    0   \n",
      "..                   ...                 ...                  ...   \n",
      "389                    1                   1                    0   \n",
      "410                    0                   1                    0   \n",
      "474                    0                   1                    0   \n",
      "498                    1                   0                    1   \n",
      "322                    1                   1                    0   \n",
      "\n",
      "     muscle stiffness_No  muscle stiffness_Yes  Alopecia_No  Alopecia_Yes  \\\n",
      "171                    1                     0            1             0   \n",
      "34                     1                     0            1             0   \n",
      "56                     0                     1            1             0   \n",
      "222                    1                     0            1             0   \n",
      "376                    1                     0            0             1   \n",
      "..                   ...                   ...          ...           ...   \n",
      "389                    0                     1            0             1   \n",
      "410                    1                     0            1             0   \n",
      "474                    1                     0            1             0   \n",
      "498                    1                     0            1             0   \n",
      "322                    0                     1            0             1   \n",
      "\n",
      "     Obesity_No  Obesity_Yes  \n",
      "171           1            0  \n",
      "34            1            0  \n",
      "56            1            0  \n",
      "222           0            1  \n",
      "376           1            0  \n",
      "..          ...          ...  \n",
      "389           1            0  \n",
      "410           1            0  \n",
      "474           1            0  \n",
      "498           1            0  \n",
      "322           1            0  \n",
      "\n",
      "[416 rows x 31 columns]\n"
     ]
    }
   ],
   "source": [
    "print(x_train)"
   ]
  },
  {
   "cell_type": "markdown",
   "id": "2e270f39",
   "metadata": {},
   "source": [
    "# Random Forest & Ada-boost Algorithm\n",
    "\n",
    "Random forest algorithm is an ensemble learning model which  uses combination of  more than one model for prediction.\n",
    "\n",
    "Random forest algorithm will take some random training data  and then construct decison tree for selected data.\n",
    "\n",
    "Then it will take avarage of all decision trees vote and finally it will select ,ost voted decision as final output.\n",
    "\n",
    "\n",
    "Ensemble uses 2 methods ad one of them is bagging:\n",
    "1] Bagging : In Bagging method it chooses random data with replacement and create decision tree for each traning set parallely. After that it will take average of all decision trees result and it will use majority of vote as final result.\n",
    "\n",
    "#### Random forest uses bagging method for prediction.\n",
    "\n",
    "2] Boosting : In this method we will combine weak learners into strong learner by creating sequential model so that final model will have accurate prediction this method is known as \"Boosting\"\n",
    "\n",
    "#### Ada-boost and XG-Boost algorithm uses boosting method."
   ]
  },
  {
   "cell_type": "code",
   "execution_count": 9,
   "id": "5beeca53",
   "metadata": {},
   "outputs": [
    {
     "data": {
      "text/html": [
       "<style>#sk-container-id-1 {color: black;background-color: white;}#sk-container-id-1 pre{padding: 0;}#sk-container-id-1 div.sk-toggleable {background-color: white;}#sk-container-id-1 label.sk-toggleable__label {cursor: pointer;display: block;width: 100%;margin-bottom: 0;padding: 0.3em;box-sizing: border-box;text-align: center;}#sk-container-id-1 label.sk-toggleable__label-arrow:before {content: \"▸\";float: left;margin-right: 0.25em;color: #696969;}#sk-container-id-1 label.sk-toggleable__label-arrow:hover:before {color: black;}#sk-container-id-1 div.sk-estimator:hover label.sk-toggleable__label-arrow:before {color: black;}#sk-container-id-1 div.sk-toggleable__content {max-height: 0;max-width: 0;overflow: hidden;text-align: left;background-color: #f0f8ff;}#sk-container-id-1 div.sk-toggleable__content pre {margin: 0.2em;color: black;border-radius: 0.25em;background-color: #f0f8ff;}#sk-container-id-1 input.sk-toggleable__control:checked~div.sk-toggleable__content {max-height: 200px;max-width: 100%;overflow: auto;}#sk-container-id-1 input.sk-toggleable__control:checked~label.sk-toggleable__label-arrow:before {content: \"▾\";}#sk-container-id-1 div.sk-estimator input.sk-toggleable__control:checked~label.sk-toggleable__label {background-color: #d4ebff;}#sk-container-id-1 div.sk-label input.sk-toggleable__control:checked~label.sk-toggleable__label {background-color: #d4ebff;}#sk-container-id-1 input.sk-hidden--visually {border: 0;clip: rect(1px 1px 1px 1px);clip: rect(1px, 1px, 1px, 1px);height: 1px;margin: -1px;overflow: hidden;padding: 0;position: absolute;width: 1px;}#sk-container-id-1 div.sk-estimator {font-family: monospace;background-color: #f0f8ff;border: 1px dotted black;border-radius: 0.25em;box-sizing: border-box;margin-bottom: 0.5em;}#sk-container-id-1 div.sk-estimator:hover {background-color: #d4ebff;}#sk-container-id-1 div.sk-parallel-item::after {content: \"\";width: 100%;border-bottom: 1px solid gray;flex-grow: 1;}#sk-container-id-1 div.sk-label:hover label.sk-toggleable__label {background-color: #d4ebff;}#sk-container-id-1 div.sk-serial::before {content: \"\";position: absolute;border-left: 1px solid gray;box-sizing: border-box;top: 0;bottom: 0;left: 50%;z-index: 0;}#sk-container-id-1 div.sk-serial {display: flex;flex-direction: column;align-items: center;background-color: white;padding-right: 0.2em;padding-left: 0.2em;position: relative;}#sk-container-id-1 div.sk-item {position: relative;z-index: 1;}#sk-container-id-1 div.sk-parallel {display: flex;align-items: stretch;justify-content: center;background-color: white;position: relative;}#sk-container-id-1 div.sk-item::before, #sk-container-id-1 div.sk-parallel-item::before {content: \"\";position: absolute;border-left: 1px solid gray;box-sizing: border-box;top: 0;bottom: 0;left: 50%;z-index: -1;}#sk-container-id-1 div.sk-parallel-item {display: flex;flex-direction: column;z-index: 1;position: relative;background-color: white;}#sk-container-id-1 div.sk-parallel-item:first-child::after {align-self: flex-end;width: 50%;}#sk-container-id-1 div.sk-parallel-item:last-child::after {align-self: flex-start;width: 50%;}#sk-container-id-1 div.sk-parallel-item:only-child::after {width: 0;}#sk-container-id-1 div.sk-dashed-wrapped {border: 1px dashed gray;margin: 0 0.4em 0.5em 0.4em;box-sizing: border-box;padding-bottom: 0.4em;background-color: white;}#sk-container-id-1 div.sk-label label {font-family: monospace;font-weight: bold;display: inline-block;line-height: 1.2em;}#sk-container-id-1 div.sk-label-container {text-align: center;}#sk-container-id-1 div.sk-container {/* jupyter's `normalize.less` sets `[hidden] { display: none; }` but bootstrap.min.css set `[hidden] { display: none !important; }` so we also need the `!important` here to be able to override the default hidden behavior on the sphinx rendered scikit-learn.org. See: https://github.com/scikit-learn/scikit-learn/issues/21755 */display: inline-block !important;position: relative;}#sk-container-id-1 div.sk-text-repr-fallback {display: none;}</style><div id=\"sk-container-id-1\" class=\"sk-top-container\"><div class=\"sk-text-repr-fallback\"><pre>RandomForestClassifier(criterion=&#x27;entropy&#x27;, n_estimators=15)</pre><b>In a Jupyter environment, please rerun this cell to show the HTML representation or trust the notebook. <br />On GitHub, the HTML representation is unable to render, please try loading this page with nbviewer.org.</b></div><div class=\"sk-container\" hidden><div class=\"sk-item\"><div class=\"sk-estimator sk-toggleable\"><input class=\"sk-toggleable__control sk-hidden--visually\" id=\"sk-estimator-id-1\" type=\"checkbox\" checked><label for=\"sk-estimator-id-1\" class=\"sk-toggleable__label sk-toggleable__label-arrow\">RandomForestClassifier</label><div class=\"sk-toggleable__content\"><pre>RandomForestClassifier(criterion=&#x27;entropy&#x27;, n_estimators=15)</pre></div></div></div></div></div>"
      ],
      "text/plain": [
       "RandomForestClassifier(criterion='entropy', n_estimators=15)"
      ]
     },
     "execution_count": 9,
     "metadata": {},
     "output_type": "execute_result"
    }
   ],
   "source": [
    "\n",
    "from sklearn.ensemble import RandomForestClassifier\n",
    "\n",
    "db_classifier = RandomForestClassifier(n_estimators=15, criterion='entropy') # n_estimator is nothig but the number of decision trees we want to use for prediction & will choose criterion as entropy for splitting data.\n",
    "\n",
    "db_classifier.fit(x_train, y_train)"
   ]
  },
  {
   "cell_type": "code",
   "execution_count": 10,
   "id": "d73fa288",
   "metadata": {},
   "outputs": [],
   "source": [
    "train_pred = db_classifier.predict(x_train)\n",
    "test_pred = db_classifier.predict(x_test)\n"
   ]
  },
  {
   "cell_type": "code",
   "execution_count": 11,
   "id": "5a453725",
   "metadata": {},
   "outputs": [
    {
     "name": "stdout",
     "output_type": "stream",
     "text": [
      "Accuracy of the model on train data =  1.0\n",
      "Accuracy of the model on validation data =  1.0\n",
      "              precision    recall  f1-score   support\n",
      "\n",
      "           0       1.00      1.00      1.00        43\n",
      "           1       1.00      1.00      1.00        61\n",
      "\n",
      "    accuracy                           1.00       104\n",
      "   macro avg       1.00      1.00      1.00       104\n",
      "weighted avg       1.00      1.00      1.00       104\n",
      "\n",
      "     Actual  Predicted\n",
      "257       1          1\n",
      "243       0          0\n",
      "326       0          0\n",
      "131       1          1\n",
      "173       1          1\n",
      "..      ...        ...\n",
      "473       0          0\n",
      "378       1          1\n",
      "172       1          1\n",
      "435       1          1\n",
      "221       0          0\n",
      "\n",
      "[104 rows x 2 columns]\n"
     ]
    }
   ],
   "source": [
    "train_accuracy = db_classifier.score(x_train,y_train)\n",
    "print(\"Accuracy of the model on train data = \",train_accuracy)\n",
    "# Getting the accuracy on test data\n",
    "test_accuracy = db_classifier.score(x_test,y_test)\n",
    "print(\"Accuracy of the model on validation data = \",test_accuracy)\n",
    "from sklearn.metrics import classification_report\n",
    "# Generating the report and printing the same\n",
    "print(classification_report(y_test,test_pred))\n",
    "\n",
    "\n",
    "output = pd.DataFrame({\"Actual\" : y_test, \"Predicted\" : test_pred})\n",
    "print(output)"
   ]
  },
  {
   "cell_type": "code",
   "execution_count": 12,
   "id": "a4e01739",
   "metadata": {},
   "outputs": [
    {
     "data": {
      "text/html": [
       "<div>\n",
       "<style scoped>\n",
       "    .dataframe tbody tr th:only-of-type {\n",
       "        vertical-align: middle;\n",
       "    }\n",
       "\n",
       "    .dataframe tbody tr th {\n",
       "        vertical-align: top;\n",
       "    }\n",
       "\n",
       "    .dataframe thead th {\n",
       "        text-align: right;\n",
       "    }\n",
       "</style>\n",
       "<table border=\"1\" class=\"dataframe\">\n",
       "  <thead>\n",
       "    <tr style=\"text-align: right;\">\n",
       "      <th></th>\n",
       "      <th>Actual</th>\n",
       "      <th>Actual category</th>\n",
       "      <th>Predicted</th>\n",
       "      <th>Predicted Categor</th>\n",
       "    </tr>\n",
       "  </thead>\n",
       "  <tbody>\n",
       "    <tr>\n",
       "      <th>0</th>\n",
       "      <td>1</td>\n",
       "      <td>Positive</td>\n",
       "      <td>1</td>\n",
       "      <td>Positive</td>\n",
       "    </tr>\n",
       "    <tr>\n",
       "      <th>1</th>\n",
       "      <td>1</td>\n",
       "      <td>Positive</td>\n",
       "      <td>1</td>\n",
       "      <td>Positive</td>\n",
       "    </tr>\n",
       "    <tr>\n",
       "      <th>2</th>\n",
       "      <td>0</td>\n",
       "      <td>Negative</td>\n",
       "      <td>0</td>\n",
       "      <td>Negative</td>\n",
       "    </tr>\n",
       "    <tr>\n",
       "      <th>3</th>\n",
       "      <td>1</td>\n",
       "      <td>Positive</td>\n",
       "      <td>1</td>\n",
       "      <td>Positive</td>\n",
       "    </tr>\n",
       "    <tr>\n",
       "      <th>4</th>\n",
       "      <td>0</td>\n",
       "      <td>Negative</td>\n",
       "      <td>0</td>\n",
       "      <td>Negative</td>\n",
       "    </tr>\n",
       "    <tr>\n",
       "      <th>...</th>\n",
       "      <td>...</td>\n",
       "      <td>...</td>\n",
       "      <td>...</td>\n",
       "      <td>...</td>\n",
       "    </tr>\n",
       "    <tr>\n",
       "      <th>99</th>\n",
       "      <td>1</td>\n",
       "      <td>Positive</td>\n",
       "      <td>1</td>\n",
       "      <td>Positive</td>\n",
       "    </tr>\n",
       "    <tr>\n",
       "      <th>100</th>\n",
       "      <td>1</td>\n",
       "      <td>Positive</td>\n",
       "      <td>1</td>\n",
       "      <td>Positive</td>\n",
       "    </tr>\n",
       "    <tr>\n",
       "      <th>101</th>\n",
       "      <td>0</td>\n",
       "      <td>Negative</td>\n",
       "      <td>0</td>\n",
       "      <td>Negative</td>\n",
       "    </tr>\n",
       "    <tr>\n",
       "      <th>102</th>\n",
       "      <td>1</td>\n",
       "      <td>Positive</td>\n",
       "      <td>1</td>\n",
       "      <td>Positive</td>\n",
       "    </tr>\n",
       "    <tr>\n",
       "      <th>103</th>\n",
       "      <td>0</td>\n",
       "      <td>Negative</td>\n",
       "      <td>0</td>\n",
       "      <td>Negative</td>\n",
       "    </tr>\n",
       "  </tbody>\n",
       "</table>\n",
       "<p>104 rows × 4 columns</p>\n",
       "</div>"
      ],
      "text/plain": [
       "     Actual Actual category  Predicted Predicted Categor\n",
       "0         1        Positive          1          Positive\n",
       "1         1        Positive          1          Positive\n",
       "2         0        Negative          0          Negative\n",
       "3         1        Positive          1          Positive\n",
       "4         0        Negative          0          Negative\n",
       "..      ...             ...        ...               ...\n",
       "99        1        Positive          1          Positive\n",
       "100       1        Positive          1          Positive\n",
       "101       0        Negative          0          Negative\n",
       "102       1        Positive          1          Positive\n",
       "103       0        Negative          0          Negative\n",
       "\n",
       "[104 rows x 4 columns]"
      ]
     },
     "execution_count": 12,
     "metadata": {},
     "output_type": "execute_result"
    }
   ],
   "source": [
    "y_test = np.array(y_test)\n",
    "y_test = y_test.flatten()\n",
    "output_test = pd.DataFrame({\"Actual\" : y_test, \"Actual category\": le.inverse_transform(y_test) , \"Predicted\" : test_pred, \"Predicted Categor\": le.inverse_transform(test_pred)})\n",
    "output_test"
   ]
  },
  {
   "cell_type": "code",
   "execution_count": 13,
   "id": "4b3c0dd8",
   "metadata": {},
   "outputs": [
    {
     "data": {
      "image/png": "[encoded data removed]",
      "text/plain": [
       "<Figure size 640x480 with 2 Axes>"
      ]
     },
     "metadata": {},
     "output_type": "display_data"
    }
   ],
   "source": [
    "from sklearn import metrics\n",
    "\n",
    "    \n",
    "    \n",
    "confusion_matrix = metrics.confusion_matrix(y_train, train_pred)\n",
    "\n",
    "cm_display = metrics.ConfusionMatrixDisplay(confusion_matrix = confusion_matrix, display_labels = [\"Positive\", \"Negative\"])\n",
    "\n",
    "cm_display.plot()\n",
    "plt.show()"
   ]
  },
  {
   "cell_type": "code",
   "execution_count": 14,
   "id": "23794339",
   "metadata": {},
   "outputs": [
    {
     "data": {
      "image/png": "[encoded data removed]",
      "text/plain": [
       "<Figure size 640x480 with 2 Axes>"
      ]
     },
     "metadata": {},
     "output_type": "display_data"
    }
   ],
   "source": [
    "from sklearn import metrics\n",
    "\n",
    "    \n",
    "    \n",
    "confusion_matrix = metrics.confusion_matrix(y_test, test_pred)\n",
    "\n",
    "cm_display = metrics.ConfusionMatrixDisplay(confusion_matrix = confusion_matrix, display_labels = [\"Positive\", \"Negative\"])\n",
    "\n",
    "cm_display.plot()\n",
    "plt.show()"
   ]
  },
  {
   "cell_type": "markdown",
   "id": "83ab1744",
   "metadata": {},
   "source": [
    "### So we can conclude from above result that Random forest algorithhm can predict accurate results"
   ]
  },
  {
   "cell_type": "markdown",
   "id": "38cdb0fb",
   "metadata": {},
   "source": [
    "## Advantages of using Random forest algorithm\n",
    "\n",
    "1] It can be used for predicting both catgorical and continious target variable.                                    \n",
    "2] The result of algoritm is easy to understand.                                                                             \n",
    "3] Provides most accurate result.\n"
   ]
  },
  {
   "cell_type": "code",
   "execution_count": null,
   "id": "b945b1cf",
   "metadata": {},
   "outputs": [],
   "source": []
  },
  {
   "cell_type": "markdown",
   "id": "8aecb13d",
   "metadata": {},
   "source": [
    "# Ada Boost Algorithm:"
   ]
  },
  {
   "cell_type": "markdown",
   "id": "76bf191c",
   "metadata": {},
   "source": [
    "Ada-boost algorithm is one of the boosting algorithm. \n",
    "\n",
    "### How this model actually works:\n",
    "\n",
    "In this algorithm we will create model and then assigns weight to misclassified data points. \n",
    "Then in next model will be more focuse on misclassified data points. \n",
    "This procedure will repeat till we get less error and in the end we will take average of all models.\n",
    "\n",
    "\n",
    "### Mathematical Intuition:\n",
    "\n",
    "Step 1: We will first calculate the 'stump' i.e. tree node with 1 split. We will selcet the best split by using gini and entropy.\n",
    "\n",
    "Step 2: After that we will assign weights to each and every data points. the formula is --> 1/N where N is total no. of data points.\n",
    "\n",
    "Step 3: After selecting Decision 'Stump' and assigning weights to each datapoint. we will identify misclassified data points and assign new weights to them but before that we need to calculate below things.\n",
    "\n",
    "  i] Alpha : Alpha is nothing but \"influece\" or \"importance\", \"Amount of say\" of classifier. \n",
    "   #### α = (1/2) * log(e) ((1 - Total_error)/Total_error) \n",
    "   \n",
    "   The Total_error is nothing but the summation of all the sample weights of misclassified data point. \n",
    "   \n",
    "   Total_error will always be between 0 and 1. 0 error means all the data points are classified correctly and 1 means all data points are wrongly classified.\n",
    "   \n",
    "   After calculating Total_error and performance of stump we will calculate new weights\n",
    "   \n",
    "  #### New_weights = old_weight * (e^ (+/-) α)\n",
    "   \n",
    "   For correctly classified data ponrs we ill use - sign and for wrongly classified data we will use + sighn\n",
    "   \n",
    "   So that correctly  classified data will have lower weights i.e. negative value and missclassified data points will have higher weights.\n",
    "   \n",
    "   So that in next model we will more focus on data points which are misclassified.\n",
    "   \n",
    "step 4 : After calculating all the weights for each data point, we need to normalize by dividing all te weight using sum of all the weights. so that sum of all the weights of data points are 1. then we need to create buckets that is range of continious class\n",
    "\n",
    "Step 5 : Then we will randomly choose N data points between range 0 and 1 and we will see under which bucket it falls. Based on that we will create new dataset.\n",
    " after new data set is reated we will repeat all the above steps till low training error is achieved.\n",
    "\n",
    "\n",
    "\n",
    "\n",
    "https://www.analyticsvidhya.com/blog/2021/09/adaboost-algorithm-a-complete-guide-for-beginners/\n"
   ]
  },
  {
   "cell_type": "code",
   "execution_count": 13,
   "id": "2bc226af",
   "metadata": {},
   "outputs": [],
   "source": [
    "from sklearn.ensemble import AdaBoostClassifier\n",
    "\n",
    "clf = AdaBoostClassifier(random_state = 96)"
   ]
  },
  {
   "cell_type": "code",
   "execution_count": 14,
   "id": "dc36cd2c",
   "metadata": {},
   "outputs": [
    {
     "data": {
      "text/html": [
       "<style>#sk-container-id-2 {color: black;background-color: white;}#sk-container-id-2 pre{padding: 0;}#sk-container-id-2 div.sk-toggleable {background-color: white;}#sk-container-id-2 label.sk-toggleable__label {cursor: pointer;display: block;width: 100%;margin-bottom: 0;padding: 0.3em;box-sizing: border-box;text-align: center;}#sk-container-id-2 label.sk-toggleable__label-arrow:before {content: \"▸\";float: left;margin-right: 0.25em;color: #696969;}#sk-container-id-2 label.sk-toggleable__label-arrow:hover:before {color: black;}#sk-container-id-2 div.sk-estimator:hover label.sk-toggleable__label-arrow:before {color: black;}#sk-container-id-2 div.sk-toggleable__content {max-height: 0;max-width: 0;overflow: hidden;text-align: left;background-color: #f0f8ff;}#sk-container-id-2 div.sk-toggleable__content pre {margin: 0.2em;color: black;border-radius: 0.25em;background-color: #f0f8ff;}#sk-container-id-2 input.sk-toggleable__control:checked~div.sk-toggleable__content {max-height: 200px;max-width: 100%;overflow: auto;}#sk-container-id-2 input.sk-toggleable__control:checked~label.sk-toggleable__label-arrow:before {content: \"▾\";}#sk-container-id-2 div.sk-estimator input.sk-toggleable__control:checked~label.sk-toggleable__label {background-color: #d4ebff;}#sk-container-id-2 div.sk-label input.sk-toggleable__control:checked~label.sk-toggleable__label {background-color: #d4ebff;}#sk-container-id-2 input.sk-hidden--visually {border: 0;clip: rect(1px 1px 1px 1px);clip: rect(1px, 1px, 1px, 1px);height: 1px;margin: -1px;overflow: hidden;padding: 0;position: absolute;width: 1px;}#sk-container-id-2 div.sk-estimator {font-family: monospace;background-color: #f0f8ff;border: 1px dotted black;border-radius: 0.25em;box-sizing: border-box;margin-bottom: 0.5em;}#sk-container-id-2 div.sk-estimator:hover {background-color: #d4ebff;}#sk-container-id-2 div.sk-parallel-item::after {content: \"\";width: 100%;border-bottom: 1px solid gray;flex-grow: 1;}#sk-container-id-2 div.sk-label:hover label.sk-toggleable__label {background-color: #d4ebff;}#sk-container-id-2 div.sk-serial::before {content: \"\";position: absolute;border-left: 1px solid gray;box-sizing: border-box;top: 0;bottom: 0;left: 50%;z-index: 0;}#sk-container-id-2 div.sk-serial {display: flex;flex-direction: column;align-items: center;background-color: white;padding-right: 0.2em;padding-left: 0.2em;position: relative;}#sk-container-id-2 div.sk-item {position: relative;z-index: 1;}#sk-container-id-2 div.sk-parallel {display: flex;align-items: stretch;justify-content: center;background-color: white;position: relative;}#sk-container-id-2 div.sk-item::before, #sk-container-id-2 div.sk-parallel-item::before {content: \"\";position: absolute;border-left: 1px solid gray;box-sizing: border-box;top: 0;bottom: 0;left: 50%;z-index: -1;}#sk-container-id-2 div.sk-parallel-item {display: flex;flex-direction: column;z-index: 1;position: relative;background-color: white;}#sk-container-id-2 div.sk-parallel-item:first-child::after {align-self: flex-end;width: 50%;}#sk-container-id-2 div.sk-parallel-item:last-child::after {align-self: flex-start;width: 50%;}#sk-container-id-2 div.sk-parallel-item:only-child::after {width: 0;}#sk-container-id-2 div.sk-dashed-wrapped {border: 1px dashed gray;margin: 0 0.4em 0.5em 0.4em;box-sizing: border-box;padding-bottom: 0.4em;background-color: white;}#sk-container-id-2 div.sk-label label {font-family: monospace;font-weight: bold;display: inline-block;line-height: 1.2em;}#sk-container-id-2 div.sk-label-container {text-align: center;}#sk-container-id-2 div.sk-container {/* jupyter's `normalize.less` sets `[hidden] { display: none; }` but bootstrap.min.css set `[hidden] { display: none !important; }` so we also need the `!important` here to be able to override the default hidden behavior on the sphinx rendered scikit-learn.org. See: https://github.com/scikit-learn/scikit-learn/issues/21755 */display: inline-block !important;position: relative;}#sk-container-id-2 div.sk-text-repr-fallback {display: none;}</style><div id=\"sk-container-id-2\" class=\"sk-top-container\"><div class=\"sk-text-repr-fallback\"><pre>AdaBoostClassifier(random_state=96)</pre><b>In a Jupyter environment, please rerun this cell to show the HTML representation or trust the notebook. <br />On GitHub, the HTML representation is unable to render, please try loading this page with nbviewer.org.</b></div><div class=\"sk-container\" hidden><div class=\"sk-item\"><div class=\"sk-estimator sk-toggleable\"><input class=\"sk-toggleable__control sk-hidden--visually\" id=\"sk-estimator-id-2\" type=\"checkbox\" checked><label for=\"sk-estimator-id-2\" class=\"sk-toggleable__label sk-toggleable__label-arrow\">AdaBoostClassifier</label><div class=\"sk-toggleable__content\"><pre>AdaBoostClassifier(random_state=96)</pre></div></div></div></div></div>"
      ],
      "text/plain": [
       "AdaBoostClassifier(random_state=96)"
      ]
     },
     "execution_count": 14,
     "metadata": {},
     "output_type": "execute_result"
    }
   ],
   "source": [
    "clf.fit(x_train, y_train)"
   ]
  },
  {
   "cell_type": "code",
   "execution_count": 15,
   "id": "4ff3de48",
   "metadata": {},
   "outputs": [
    {
     "data": {
      "text/plain": [
       "0.9423076923076923"
      ]
     },
     "execution_count": 15,
     "metadata": {},
     "output_type": "execute_result"
    }
   ],
   "source": [
    "clf.score(x_train, y_train)"
   ]
  },
  {
   "cell_type": "code",
   "execution_count": 16,
   "id": "df69d569",
   "metadata": {},
   "outputs": [],
   "source": [
    "train_pred1 = clf.predict(x_train)\n",
    "test_pred1 = clf.predict(x_test)\n"
   ]
  },
  {
   "cell_type": "code",
   "execution_count": 17,
   "id": "2f549d56",
   "metadata": {},
   "outputs": [
    {
     "name": "stdout",
     "output_type": "stream",
     "text": [
      "Accuracy of the model on train data =  0.9423076923076923\n",
      "Accuracy of the model on validation data =  0.9711538461538461\n",
      "              precision    recall  f1-score   support\n",
      "\n",
      "           0       1.00      1.00      1.00        43\n",
      "           1       1.00      1.00      1.00        61\n",
      "\n",
      "    accuracy                           1.00       104\n",
      "   macro avg       1.00      1.00      1.00       104\n",
      "weighted avg       1.00      1.00      1.00       104\n",
      "\n",
      "     Actual  Predicted\n",
      "257       1          1\n",
      "243       0          0\n",
      "326       0          0\n",
      "131       1          1\n",
      "173       1          1\n",
      "..      ...        ...\n",
      "473       0          0\n",
      "378       1          1\n",
      "172       1          1\n",
      "435       1          1\n",
      "221       0          0\n",
      "\n",
      "[104 rows x 2 columns]\n"
     ]
    }
   ],
   "source": [
    "train_accu = clf.score(x_train,y_train)\n",
    "print(\"Accuracy of the model on train data = \",train_accu)\n",
    "# Getting the accuracy on test data\n",
    "test_accu = clf.score(x_test,y_test)\n",
    "print(\"Accuracy of the model on validation data = \",test_accu)\n",
    "from sklearn.metrics import classification_report\n",
    "# Generating the report and printing the same\n",
    "print(classification_report(y_test,test_pred))\n",
    "\n",
    "\n",
    "out = pd.DataFrame({\"Actual\" : y_test, \"Predicted\" : test_pred1})\n",
    "print(out)"
   ]
  },
  {
   "cell_type": "code",
   "execution_count": 18,
   "id": "7528338b",
   "metadata": {},
   "outputs": [
    {
     "data": {
      "text/html": [
       "<div>\n",
       "<style scoped>\n",
       "    .dataframe tbody tr th:only-of-type {\n",
       "        vertical-align: middle;\n",
       "    }\n",
       "\n",
       "    .dataframe tbody tr th {\n",
       "        vertical-align: top;\n",
       "    }\n",
       "\n",
       "    .dataframe thead th {\n",
       "        text-align: right;\n",
       "    }\n",
       "</style>\n",
       "<table border=\"1\" class=\"dataframe\">\n",
       "  <thead>\n",
       "    <tr style=\"text-align: right;\">\n",
       "      <th></th>\n",
       "      <th>Actual</th>\n",
       "      <th>Actual category</th>\n",
       "      <th>Predicted</th>\n",
       "      <th>Predicted Categor</th>\n",
       "    </tr>\n",
       "  </thead>\n",
       "  <tbody>\n",
       "    <tr>\n",
       "      <th>0</th>\n",
       "      <td>1</td>\n",
       "      <td>Positive</td>\n",
       "      <td>1</td>\n",
       "      <td>Positive</td>\n",
       "    </tr>\n",
       "    <tr>\n",
       "      <th>1</th>\n",
       "      <td>0</td>\n",
       "      <td>Negative</td>\n",
       "      <td>0</td>\n",
       "      <td>Negative</td>\n",
       "    </tr>\n",
       "    <tr>\n",
       "      <th>2</th>\n",
       "      <td>0</td>\n",
       "      <td>Negative</td>\n",
       "      <td>0</td>\n",
       "      <td>Negative</td>\n",
       "    </tr>\n",
       "    <tr>\n",
       "      <th>3</th>\n",
       "      <td>1</td>\n",
       "      <td>Positive</td>\n",
       "      <td>1</td>\n",
       "      <td>Positive</td>\n",
       "    </tr>\n",
       "    <tr>\n",
       "      <th>4</th>\n",
       "      <td>1</td>\n",
       "      <td>Positive</td>\n",
       "      <td>1</td>\n",
       "      <td>Positive</td>\n",
       "    </tr>\n",
       "    <tr>\n",
       "      <th>...</th>\n",
       "      <td>...</td>\n",
       "      <td>...</td>\n",
       "      <td>...</td>\n",
       "      <td>...</td>\n",
       "    </tr>\n",
       "    <tr>\n",
       "      <th>99</th>\n",
       "      <td>0</td>\n",
       "      <td>Negative</td>\n",
       "      <td>0</td>\n",
       "      <td>Negative</td>\n",
       "    </tr>\n",
       "    <tr>\n",
       "      <th>100</th>\n",
       "      <td>1</td>\n",
       "      <td>Positive</td>\n",
       "      <td>1</td>\n",
       "      <td>Positive</td>\n",
       "    </tr>\n",
       "    <tr>\n",
       "      <th>101</th>\n",
       "      <td>1</td>\n",
       "      <td>Positive</td>\n",
       "      <td>1</td>\n",
       "      <td>Positive</td>\n",
       "    </tr>\n",
       "    <tr>\n",
       "      <th>102</th>\n",
       "      <td>1</td>\n",
       "      <td>Positive</td>\n",
       "      <td>1</td>\n",
       "      <td>Positive</td>\n",
       "    </tr>\n",
       "    <tr>\n",
       "      <th>103</th>\n",
       "      <td>0</td>\n",
       "      <td>Negative</td>\n",
       "      <td>0</td>\n",
       "      <td>Negative</td>\n",
       "    </tr>\n",
       "  </tbody>\n",
       "</table>\n",
       "<p>104 rows × 4 columns</p>\n",
       "</div>"
      ],
      "text/plain": [
       "     Actual Actual category  Predicted Predicted Categor\n",
       "0         1        Positive          1          Positive\n",
       "1         0        Negative          0          Negative\n",
       "2         0        Negative          0          Negative\n",
       "3         1        Positive          1          Positive\n",
       "4         1        Positive          1          Positive\n",
       "..      ...             ...        ...               ...\n",
       "99        0        Negative          0          Negative\n",
       "100       1        Positive          1          Positive\n",
       "101       1        Positive          1          Positive\n",
       "102       1        Positive          1          Positive\n",
       "103       0        Negative          0          Negative\n",
       "\n",
       "[104 rows x 4 columns]"
      ]
     },
     "execution_count": 18,
     "metadata": {},
     "output_type": "execute_result"
    }
   ],
   "source": [
    "y_test = np.array(y_test)\n",
    "y_test = y_test.flatten()\n",
    "output_test = pd.DataFrame({\"Actual\" : y_test, \"Actual category\": le.inverse_transform(y_test) , \"Predicted\" : test_pred1, \"Predicted Categor\": le.inverse_transform(test_pred1)})\n",
    "output_test"
   ]
  },
  {
   "cell_type": "code",
   "execution_count": 19,
   "id": "ec307a59",
   "metadata": {},
   "outputs": [
    {
     "data": {
      "image/png": "[encoded data removed]",
      "text/plain": [
       "<Figure size 640x480 with 2 Axes>"
      ]
     },
     "metadata": {},
     "output_type": "display_data"
    }
   ],
   "source": [
    "from sklearn import metrics\n",
    "\n",
    "    \n",
    "    \n",
    "confusion_matrix = metrics.confusion_matrix(y_train, train_pred1)\n",
    "\n",
    "cm_display = metrics.ConfusionMatrixDisplay(confusion_matrix = confusion_matrix, display_labels = [\"Positive\", \"Negative\"])\n",
    "\n",
    "cm_display.plot()\n",
    "plt.show()"
   ]
  },
  {
   "cell_type": "code",
   "execution_count": 20,
   "id": "70244376",
   "metadata": {},
   "outputs": [
    {
     "data": {
      "image/png": "[encoded data removed]",
      "text/plain": [
       "<Figure size 640x480 with 2 Axes>"
      ]
     },
     "metadata": {},
     "output_type": "display_data"
    }
   ],
   "source": [
    "from sklearn import metrics\n",
    "\n",
    "    \n",
    "    \n",
    "confusion_matrix = metrics.confusion_matrix(y_test, test_pred1)\n",
    "\n",
    "cm_display = metrics.ConfusionMatrixDisplay(confusion_matrix = confusion_matrix, display_labels = [\"Positive\", \"Negative\"])\n",
    "\n",
    "cm_display.plot()\n",
    "plt.show()"
   ]
  },
  {
   "cell_type": "code",
   "execution_count": null,
   "id": "d4ebb806",
   "metadata": {},
   "outputs": [],
   "source": []
  }
 ],
 "metadata": {
  "kernelspec": {
   "display_name": "Python 3 (ipykernel)",
   "language": "python",
   "name": "python3"
  },
  "language_info": {
   "codemirror_mode": {
    "name": "ipython",
    "version": 3
   },
   "file_extension": ".py",
   "mimetype": "text/x-python",
   "name": "python",
   "nbconvert_exporter": "python",
   "pygments_lexer": "ipython3",
   "version": "3.9.13"
  }
 },
 "nbformat": 4,
 "nbformat_minor": 5
}
